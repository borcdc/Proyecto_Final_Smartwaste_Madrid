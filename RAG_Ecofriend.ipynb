{
 "cells": [
  {
   "cell_type": "markdown",
   "metadata": {},
   "source": [
    "### Librerias"
   ]
  },
  {
   "cell_type": "code",
   "execution_count": 3,
   "metadata": {},
   "outputs": [
    {
     "name": "stdout",
     "output_type": "stream",
     "text": [
      "Requirement already satisfied: langchain in /Users/iborja/.pyenv/versions/3.12.6/lib/python3.12/site-packages (0.3.15)\n",
      "Requirement already satisfied: langchain_openai in /Users/iborja/.pyenv/versions/3.12.6/lib/python3.12/site-packages (0.3.1)\n",
      "Requirement already satisfied: gradio in /Users/iborja/.pyenv/versions/3.12.6/lib/python3.12/site-packages (5.12.0)\n",
      "Requirement already satisfied: chromadb in /Users/iborja/.pyenv/versions/3.12.6/lib/python3.12/site-packages (0.6.3)\n",
      "Requirement already satisfied: pypdf in /Users/iborja/.pyenv/versions/3.12.6/lib/python3.12/site-packages (5.1.0)\n",
      "Requirement already satisfied: ipywidgets in /Users/iborja/.pyenv/versions/3.12.6/lib/python3.12/site-packages (8.1.5)\n",
      "Requirement already satisfied: langchain_community in /Users/iborja/.pyenv/versions/3.12.6/lib/python3.12/site-packages (0.3.15)\n",
      "Requirement already satisfied: PyYAML>=5.3 in /Users/iborja/.pyenv/versions/3.12.6/lib/python3.12/site-packages (from langchain) (6.0.2)\n",
      "Requirement already satisfied: SQLAlchemy<3,>=1.4 in /Users/iborja/.pyenv/versions/3.12.6/lib/python3.12/site-packages (from langchain) (2.0.37)\n",
      "Requirement already satisfied: aiohttp<4.0.0,>=3.8.3 in /Users/iborja/.pyenv/versions/3.12.6/lib/python3.12/site-packages (from langchain) (3.11.11)\n",
      "Requirement already satisfied: langchain-core<0.4.0,>=0.3.31 in /Users/iborja/.pyenv/versions/3.12.6/lib/python3.12/site-packages (from langchain) (0.3.31)\n",
      "Requirement already satisfied: langchain-text-splitters<0.4.0,>=0.3.3 in /Users/iborja/.pyenv/versions/3.12.6/lib/python3.12/site-packages (from langchain) (0.3.5)\n",
      "Requirement already satisfied: langsmith<0.4,>=0.1.17 in /Users/iborja/.pyenv/versions/3.12.6/lib/python3.12/site-packages (from langchain) (0.2.10)\n",
      "Requirement already satisfied: numpy<3,>=1.26.2 in /Users/iborja/.pyenv/versions/3.12.6/lib/python3.12/site-packages (from langchain) (1.26.4)\n",
      "Requirement already satisfied: pydantic<3.0.0,>=2.7.4 in /Users/iborja/.pyenv/versions/3.12.6/lib/python3.12/site-packages (from langchain) (2.10.5)\n",
      "Requirement already satisfied: requests<3,>=2 in /Users/iborja/.pyenv/versions/3.12.6/lib/python3.12/site-packages (from langchain) (2.32.3)\n",
      "Requirement already satisfied: tenacity!=8.4.0,<10,>=8.1.0 in /Users/iborja/.pyenv/versions/3.12.6/lib/python3.12/site-packages (from langchain) (9.0.0)\n",
      "Requirement already satisfied: openai<2.0.0,>=1.58.1 in /Users/iborja/.pyenv/versions/3.12.6/lib/python3.12/site-packages (from langchain_openai) (1.59.7)\n",
      "Requirement already satisfied: tiktoken<1,>=0.7 in /Users/iborja/.pyenv/versions/3.12.6/lib/python3.12/site-packages (from langchain_openai) (0.8.0)\n",
      "Requirement already satisfied: aiofiles<24.0,>=22.0 in /Users/iborja/.pyenv/versions/3.12.6/lib/python3.12/site-packages (from gradio) (23.2.1)\n",
      "Requirement already satisfied: anyio<5.0,>=3.0 in /Users/iborja/.pyenv/versions/3.12.6/lib/python3.12/site-packages (from gradio) (4.8.0)\n",
      "Requirement already satisfied: fastapi<1.0,>=0.115.2 in /Users/iborja/.pyenv/versions/3.12.6/lib/python3.12/site-packages (from gradio) (0.115.6)\n",
      "Requirement already satisfied: ffmpy in /Users/iborja/.pyenv/versions/3.12.6/lib/python3.12/site-packages (from gradio) (0.5.0)\n",
      "Requirement already satisfied: gradio-client==1.5.4 in /Users/iborja/.pyenv/versions/3.12.6/lib/python3.12/site-packages (from gradio) (1.5.4)\n",
      "Requirement already satisfied: httpx>=0.24.1 in /Users/iborja/.pyenv/versions/3.12.6/lib/python3.12/site-packages (from gradio) (0.28.1)\n",
      "Requirement already satisfied: huggingface-hub>=0.25.1 in /Users/iborja/.pyenv/versions/3.12.6/lib/python3.12/site-packages (from gradio) (0.27.1)\n",
      "Requirement already satisfied: jinja2<4.0 in /Users/iborja/.pyenv/versions/3.12.6/lib/python3.12/site-packages (from gradio) (3.1.4)\n",
      "Requirement already satisfied: markupsafe~=2.0 in /Users/iborja/.pyenv/versions/3.12.6/lib/python3.12/site-packages (from gradio) (2.1.5)\n",
      "Requirement already satisfied: orjson~=3.0 in /Users/iborja/.pyenv/versions/3.12.6/lib/python3.12/site-packages (from gradio) (3.10.14)\n",
      "Requirement already satisfied: packaging in /Users/iborja/.pyenv/versions/3.12.6/lib/python3.12/site-packages (from gradio) (24.2)\n",
      "Requirement already satisfied: pandas<3.0,>=1.0 in /Users/iborja/.pyenv/versions/3.12.6/lib/python3.12/site-packages (from gradio) (2.2.3)\n",
      "Requirement already satisfied: pillow<12.0,>=8.0 in /Users/iborja/.pyenv/versions/3.12.6/lib/python3.12/site-packages (from gradio) (10.4.0)\n",
      "Requirement already satisfied: pydub in /Users/iborja/.pyenv/versions/3.12.6/lib/python3.12/site-packages (from gradio) (0.25.1)\n",
      "Requirement already satisfied: python-multipart>=0.0.18 in /Users/iborja/.pyenv/versions/3.12.6/lib/python3.12/site-packages (from gradio) (0.0.20)\n",
      "Requirement already satisfied: ruff>=0.2.2 in /Users/iborja/.pyenv/versions/3.12.6/lib/python3.12/site-packages (from gradio) (0.9.1)\n",
      "Requirement already satisfied: safehttpx<0.2.0,>=0.1.6 in /Users/iborja/.pyenv/versions/3.12.6/lib/python3.12/site-packages (from gradio) (0.1.6)\n",
      "Requirement already satisfied: semantic-version~=2.0 in /Users/iborja/.pyenv/versions/3.12.6/lib/python3.12/site-packages (from gradio) (2.10.0)\n",
      "Requirement already satisfied: starlette<1.0,>=0.40.0 in /Users/iborja/.pyenv/versions/3.12.6/lib/python3.12/site-packages (from gradio) (0.41.3)\n",
      "Requirement already satisfied: tomlkit<0.14.0,>=0.12.0 in /Users/iborja/.pyenv/versions/3.12.6/lib/python3.12/site-packages (from gradio) (0.13.2)\n",
      "Requirement already satisfied: typer<1.0,>=0.12 in /Users/iborja/.pyenv/versions/3.12.6/lib/python3.12/site-packages (from gradio) (0.15.1)\n",
      "Requirement already satisfied: typing-extensions~=4.0 in /Users/iborja/.pyenv/versions/3.12.6/lib/python3.12/site-packages (from gradio) (4.12.2)\n",
      "Requirement already satisfied: uvicorn>=0.14.0 in /Users/iborja/.pyenv/versions/3.12.6/lib/python3.12/site-packages (from gradio) (0.34.0)\n",
      "Requirement already satisfied: fsspec in /Users/iborja/.pyenv/versions/3.12.6/lib/python3.12/site-packages (from gradio-client==1.5.4->gradio) (2024.12.0)\n",
      "Requirement already satisfied: websockets<15.0,>=10.0 in /Users/iborja/.pyenv/versions/3.12.6/lib/python3.12/site-packages (from gradio-client==1.5.4->gradio) (14.1)\n",
      "Requirement already satisfied: build>=1.0.3 in /Users/iborja/.pyenv/versions/3.12.6/lib/python3.12/site-packages (from chromadb) (1.2.2.post1)\n",
      "Requirement already satisfied: chroma-hnswlib==0.7.6 in /Users/iborja/.pyenv/versions/3.12.6/lib/python3.12/site-packages (from chromadb) (0.7.6)\n",
      "Requirement already satisfied: posthog>=2.4.0 in /Users/iborja/.pyenv/versions/3.12.6/lib/python3.12/site-packages (from chromadb) (3.7.5)\n",
      "Requirement already satisfied: onnxruntime>=1.14.1 in /Users/iborja/.pyenv/versions/3.12.6/lib/python3.12/site-packages (from chromadb) (1.20.1)\n",
      "Requirement already satisfied: opentelemetry-api>=1.2.0 in /Users/iborja/.pyenv/versions/3.12.6/lib/python3.12/site-packages (from chromadb) (1.29.0)\n",
      "Requirement already satisfied: opentelemetry-exporter-otlp-proto-grpc>=1.2.0 in /Users/iborja/.pyenv/versions/3.12.6/lib/python3.12/site-packages (from chromadb) (1.29.0)\n",
      "Requirement already satisfied: opentelemetry-instrumentation-fastapi>=0.41b0 in /Users/iborja/.pyenv/versions/3.12.6/lib/python3.12/site-packages (from chromadb) (0.50b0)\n",
      "Requirement already satisfied: opentelemetry-sdk>=1.2.0 in /Users/iborja/.pyenv/versions/3.12.6/lib/python3.12/site-packages (from chromadb) (1.29.0)\n",
      "Requirement already satisfied: tokenizers>=0.13.2 in /Users/iborja/.pyenv/versions/3.12.6/lib/python3.12/site-packages (from chromadb) (0.21.0)\n",
      "Requirement already satisfied: pypika>=0.48.9 in /Users/iborja/.pyenv/versions/3.12.6/lib/python3.12/site-packages (from chromadb) (0.48.9)\n",
      "Requirement already satisfied: tqdm>=4.65.0 in /Users/iborja/.pyenv/versions/3.12.6/lib/python3.12/site-packages (from chromadb) (4.67.1)\n",
      "Requirement already satisfied: overrides>=7.3.1 in /Users/iborja/.pyenv/versions/3.12.6/lib/python3.12/site-packages (from chromadb) (7.7.0)\n",
      "Requirement already satisfied: importlib-resources in /Users/iborja/.pyenv/versions/3.12.6/lib/python3.12/site-packages (from chromadb) (6.5.2)\n",
      "Requirement already satisfied: grpcio>=1.58.0 in /Users/iborja/.pyenv/versions/3.12.6/lib/python3.12/site-packages (from chromadb) (1.68.1)\n",
      "Requirement already satisfied: bcrypt>=4.0.1 in /Users/iborja/.pyenv/versions/3.12.6/lib/python3.12/site-packages (from chromadb) (4.2.1)\n",
      "Requirement already satisfied: kubernetes>=28.1.0 in /Users/iborja/.pyenv/versions/3.12.6/lib/python3.12/site-packages (from chromadb) (31.0.0)\n",
      "Requirement already satisfied: mmh3>=4.0.1 in /Users/iborja/.pyenv/versions/3.12.6/lib/python3.12/site-packages (from chromadb) (5.0.1)\n",
      "Requirement already satisfied: rich>=10.11.0 in /Users/iborja/.pyenv/versions/3.12.6/lib/python3.12/site-packages (from chromadb) (13.9.4)\n",
      "Requirement already satisfied: comm>=0.1.3 in /Users/iborja/.pyenv/versions/3.12.6/lib/python3.12/site-packages (from ipywidgets) (0.2.2)\n",
      "Requirement already satisfied: ipython>=6.1.0 in /Users/iborja/.pyenv/versions/3.12.6/lib/python3.12/site-packages (from ipywidgets) (8.30.0)\n",
      "Requirement already satisfied: traitlets>=4.3.1 in /Users/iborja/.pyenv/versions/3.12.6/lib/python3.12/site-packages (from ipywidgets) (5.14.3)\n",
      "Requirement already satisfied: widgetsnbextension~=4.0.12 in /Users/iborja/.pyenv/versions/3.12.6/lib/python3.12/site-packages (from ipywidgets) (4.0.13)\n",
      "Requirement already satisfied: jupyterlab-widgets~=3.0.12 in /Users/iborja/.pyenv/versions/3.12.6/lib/python3.12/site-packages (from ipywidgets) (3.0.13)\n",
      "Requirement already satisfied: dataclasses-json<0.7,>=0.5.7 in /Users/iborja/.pyenv/versions/3.12.6/lib/python3.12/site-packages (from langchain_community) (0.6.7)\n",
      "Requirement already satisfied: httpx-sse<0.5.0,>=0.4.0 in /Users/iborja/.pyenv/versions/3.12.6/lib/python3.12/site-packages (from langchain_community) (0.4.0)\n",
      "Requirement already satisfied: pydantic-settings<3.0.0,>=2.4.0 in /Users/iborja/.pyenv/versions/3.12.6/lib/python3.12/site-packages (from langchain_community) (2.7.1)\n",
      "Requirement already satisfied: aiohappyeyeballs>=2.3.0 in /Users/iborja/.pyenv/versions/3.12.6/lib/python3.12/site-packages (from aiohttp<4.0.0,>=3.8.3->langchain) (2.4.4)\n",
      "Requirement already satisfied: aiosignal>=1.1.2 in /Users/iborja/.pyenv/versions/3.12.6/lib/python3.12/site-packages (from aiohttp<4.0.0,>=3.8.3->langchain) (1.3.2)\n",
      "Requirement already satisfied: attrs>=17.3.0 in /Users/iborja/.pyenv/versions/3.12.6/lib/python3.12/site-packages (from aiohttp<4.0.0,>=3.8.3->langchain) (24.3.0)\n",
      "Requirement already satisfied: frozenlist>=1.1.1 in /Users/iborja/.pyenv/versions/3.12.6/lib/python3.12/site-packages (from aiohttp<4.0.0,>=3.8.3->langchain) (1.5.0)\n",
      "Requirement already satisfied: multidict<7.0,>=4.5 in /Users/iborja/.pyenv/versions/3.12.6/lib/python3.12/site-packages (from aiohttp<4.0.0,>=3.8.3->langchain) (6.1.0)\n",
      "Requirement already satisfied: propcache>=0.2.0 in /Users/iborja/.pyenv/versions/3.12.6/lib/python3.12/site-packages (from aiohttp<4.0.0,>=3.8.3->langchain) (0.2.1)\n",
      "Requirement already satisfied: yarl<2.0,>=1.17.0 in /Users/iborja/.pyenv/versions/3.12.6/lib/python3.12/site-packages (from aiohttp<4.0.0,>=3.8.3->langchain) (1.18.3)\n",
      "Requirement already satisfied: idna>=2.8 in /Users/iborja/.pyenv/versions/3.12.6/lib/python3.12/site-packages (from anyio<5.0,>=3.0->gradio) (3.10)\n",
      "Requirement already satisfied: sniffio>=1.1 in /Users/iborja/.pyenv/versions/3.12.6/lib/python3.12/site-packages (from anyio<5.0,>=3.0->gradio) (1.3.1)\n",
      "Requirement already satisfied: pyproject_hooks in /Users/iborja/.pyenv/versions/3.12.6/lib/python3.12/site-packages (from build>=1.0.3->chromadb) (1.2.0)\n",
      "Requirement already satisfied: marshmallow<4.0.0,>=3.18.0 in /Users/iborja/.pyenv/versions/3.12.6/lib/python3.12/site-packages (from dataclasses-json<0.7,>=0.5.7->langchain_community) (3.25.1)\n",
      "Requirement already satisfied: typing-inspect<1,>=0.4.0 in /Users/iborja/.pyenv/versions/3.12.6/lib/python3.12/site-packages (from dataclasses-json<0.7,>=0.5.7->langchain_community) (0.9.0)\n",
      "Requirement already satisfied: certifi in /Users/iborja/.pyenv/versions/3.12.6/lib/python3.12/site-packages (from httpx>=0.24.1->gradio) (2024.12.14)\n",
      "Requirement already satisfied: httpcore==1.* in /Users/iborja/.pyenv/versions/3.12.6/lib/python3.12/site-packages (from httpx>=0.24.1->gradio) (1.0.7)\n",
      "Requirement already satisfied: h11<0.15,>=0.13 in /Users/iborja/.pyenv/versions/3.12.6/lib/python3.12/site-packages (from httpcore==1.*->httpx>=0.24.1->gradio) (0.14.0)\n",
      "Requirement already satisfied: filelock in /Users/iborja/.pyenv/versions/3.12.6/lib/python3.12/site-packages (from huggingface-hub>=0.25.1->gradio) (3.16.1)\n",
      "Requirement already satisfied: decorator in /Users/iborja/.pyenv/versions/3.12.6/lib/python3.12/site-packages (from ipython>=6.1.0->ipywidgets) (5.1.1)\n",
      "Requirement already satisfied: jedi>=0.16 in /Users/iborja/.pyenv/versions/3.12.6/lib/python3.12/site-packages (from ipython>=6.1.0->ipywidgets) (0.19.2)\n",
      "Requirement already satisfied: matplotlib-inline in /Users/iborja/.pyenv/versions/3.12.6/lib/python3.12/site-packages (from ipython>=6.1.0->ipywidgets) (0.1.7)\n",
      "Requirement already satisfied: pexpect>4.3 in /Users/iborja/.pyenv/versions/3.12.6/lib/python3.12/site-packages (from ipython>=6.1.0->ipywidgets) (4.9.0)\n",
      "Requirement already satisfied: prompt_toolkit<3.1.0,>=3.0.41 in /Users/iborja/.pyenv/versions/3.12.6/lib/python3.12/site-packages (from ipython>=6.1.0->ipywidgets) (3.0.48)\n",
      "Requirement already satisfied: pygments>=2.4.0 in /Users/iborja/.pyenv/versions/3.12.6/lib/python3.12/site-packages (from ipython>=6.1.0->ipywidgets) (2.18.0)\n",
      "Requirement already satisfied: stack_data in /Users/iborja/.pyenv/versions/3.12.6/lib/python3.12/site-packages (from ipython>=6.1.0->ipywidgets) (0.6.3)\n",
      "Requirement already satisfied: six>=1.9.0 in /Users/iborja/.pyenv/versions/3.12.6/lib/python3.12/site-packages (from kubernetes>=28.1.0->chromadb) (1.17.0)\n",
      "Requirement already satisfied: python-dateutil>=2.5.3 in /Users/iborja/.pyenv/versions/3.12.6/lib/python3.12/site-packages (from kubernetes>=28.1.0->chromadb) (2.9.0.post0)\n",
      "Requirement already satisfied: google-auth>=1.0.1 in /Users/iborja/.pyenv/versions/3.12.6/lib/python3.12/site-packages (from kubernetes>=28.1.0->chromadb) (2.37.0)\n",
      "Requirement already satisfied: websocket-client!=0.40.0,!=0.41.*,!=0.42.*,>=0.32.0 in /Users/iborja/.pyenv/versions/3.12.6/lib/python3.12/site-packages (from kubernetes>=28.1.0->chromadb) (1.8.0)\n",
      "Requirement already satisfied: requests-oauthlib in /Users/iborja/.pyenv/versions/3.12.6/lib/python3.12/site-packages (from kubernetes>=28.1.0->chromadb) (2.0.0)\n",
      "Requirement already satisfied: oauthlib>=3.2.2 in /Users/iborja/.pyenv/versions/3.12.6/lib/python3.12/site-packages (from kubernetes>=28.1.0->chromadb) (3.2.2)\n",
      "Requirement already satisfied: urllib3>=1.24.2 in /Users/iborja/.pyenv/versions/3.12.6/lib/python3.12/site-packages (from kubernetes>=28.1.0->chromadb) (2.2.3)\n",
      "Requirement already satisfied: durationpy>=0.7 in /Users/iborja/.pyenv/versions/3.12.6/lib/python3.12/site-packages (from kubernetes>=28.1.0->chromadb) (0.9)\n",
      "Requirement already satisfied: jsonpatch<2.0,>=1.33 in /Users/iborja/.pyenv/versions/3.12.6/lib/python3.12/site-packages (from langchain-core<0.4.0,>=0.3.31->langchain) (1.33)\n",
      "Requirement already satisfied: requests-toolbelt<2.0.0,>=1.0.0 in /Users/iborja/.pyenv/versions/3.12.6/lib/python3.12/site-packages (from langsmith<0.4,>=0.1.17->langchain) (1.0.0)\n",
      "Requirement already satisfied: coloredlogs in /Users/iborja/.pyenv/versions/3.12.6/lib/python3.12/site-packages (from onnxruntime>=1.14.1->chromadb) (15.0.1)\n",
      "Requirement already satisfied: flatbuffers in /Users/iborja/.pyenv/versions/3.12.6/lib/python3.12/site-packages (from onnxruntime>=1.14.1->chromadb) (24.3.25)\n",
      "Requirement already satisfied: protobuf in /Users/iborja/.pyenv/versions/3.12.6/lib/python3.12/site-packages (from onnxruntime>=1.14.1->chromadb) (5.29.3)\n",
      "Requirement already satisfied: sympy in /Users/iborja/.pyenv/versions/3.12.6/lib/python3.12/site-packages (from onnxruntime>=1.14.1->chromadb) (1.13.3)\n",
      "Requirement already satisfied: distro<2,>=1.7.0 in /Users/iborja/.pyenv/versions/3.12.6/lib/python3.12/site-packages (from openai<2.0.0,>=1.58.1->langchain_openai) (1.9.0)\n",
      "Requirement already satisfied: jiter<1,>=0.4.0 in /Users/iborja/.pyenv/versions/3.12.6/lib/python3.12/site-packages (from openai<2.0.0,>=1.58.1->langchain_openai) (0.8.2)\n",
      "Requirement already satisfied: deprecated>=1.2.6 in /Users/iborja/.pyenv/versions/3.12.6/lib/python3.12/site-packages (from opentelemetry-api>=1.2.0->chromadb) (1.2.15)\n",
      "Requirement already satisfied: importlib-metadata<=8.5.0,>=6.0 in /Users/iborja/.pyenv/versions/3.12.6/lib/python3.12/site-packages (from opentelemetry-api>=1.2.0->chromadb) (8.5.0)\n",
      "Requirement already satisfied: googleapis-common-protos~=1.52 in /Users/iborja/.pyenv/versions/3.12.6/lib/python3.12/site-packages (from opentelemetry-exporter-otlp-proto-grpc>=1.2.0->chromadb) (1.66.0)\n",
      "Requirement already satisfied: opentelemetry-exporter-otlp-proto-common==1.29.0 in /Users/iborja/.pyenv/versions/3.12.6/lib/python3.12/site-packages (from opentelemetry-exporter-otlp-proto-grpc>=1.2.0->chromadb) (1.29.0)\n",
      "Requirement already satisfied: opentelemetry-proto==1.29.0 in /Users/iborja/.pyenv/versions/3.12.6/lib/python3.12/site-packages (from opentelemetry-exporter-otlp-proto-grpc>=1.2.0->chromadb) (1.29.0)\n",
      "Requirement already satisfied: opentelemetry-instrumentation-asgi==0.50b0 in /Users/iborja/.pyenv/versions/3.12.6/lib/python3.12/site-packages (from opentelemetry-instrumentation-fastapi>=0.41b0->chromadb) (0.50b0)\n",
      "Requirement already satisfied: opentelemetry-instrumentation==0.50b0 in /Users/iborja/.pyenv/versions/3.12.6/lib/python3.12/site-packages (from opentelemetry-instrumentation-fastapi>=0.41b0->chromadb) (0.50b0)\n",
      "Requirement already satisfied: opentelemetry-semantic-conventions==0.50b0 in /Users/iborja/.pyenv/versions/3.12.6/lib/python3.12/site-packages (from opentelemetry-instrumentation-fastapi>=0.41b0->chromadb) (0.50b0)\n",
      "Requirement already satisfied: opentelemetry-util-http==0.50b0 in /Users/iborja/.pyenv/versions/3.12.6/lib/python3.12/site-packages (from opentelemetry-instrumentation-fastapi>=0.41b0->chromadb) (0.50b0)\n",
      "Requirement already satisfied: wrapt<2.0.0,>=1.0.0 in /Users/iborja/.pyenv/versions/3.12.6/lib/python3.12/site-packages (from opentelemetry-instrumentation==0.50b0->opentelemetry-instrumentation-fastapi>=0.41b0->chromadb) (1.17.0)\n",
      "Requirement already satisfied: asgiref~=3.0 in /Users/iborja/.pyenv/versions/3.12.6/lib/python3.12/site-packages (from opentelemetry-instrumentation-asgi==0.50b0->opentelemetry-instrumentation-fastapi>=0.41b0->chromadb) (3.8.1)\n",
      "Requirement already satisfied: pytz>=2020.1 in /Users/iborja/.pyenv/versions/3.12.6/lib/python3.12/site-packages (from pandas<3.0,>=1.0->gradio) (2024.2)\n",
      "Requirement already satisfied: tzdata>=2022.7 in /Users/iborja/.pyenv/versions/3.12.6/lib/python3.12/site-packages (from pandas<3.0,>=1.0->gradio) (2024.2)\n",
      "Requirement already satisfied: monotonic>=1.5 in /Users/iborja/.pyenv/versions/3.12.6/lib/python3.12/site-packages (from posthog>=2.4.0->chromadb) (1.6)\n",
      "Requirement already satisfied: backoff>=1.10.0 in /Users/iborja/.pyenv/versions/3.12.6/lib/python3.12/site-packages (from posthog>=2.4.0->chromadb) (2.2.1)\n",
      "Requirement already satisfied: annotated-types>=0.6.0 in /Users/iborja/.pyenv/versions/3.12.6/lib/python3.12/site-packages (from pydantic<3.0.0,>=2.7.4->langchain) (0.7.0)\n",
      "Requirement already satisfied: pydantic-core==2.27.2 in /Users/iborja/.pyenv/versions/3.12.6/lib/python3.12/site-packages (from pydantic<3.0.0,>=2.7.4->langchain) (2.27.2)\n",
      "Requirement already satisfied: python-dotenv>=0.21.0 in /Users/iborja/.pyenv/versions/3.12.6/lib/python3.12/site-packages (from pydantic-settings<3.0.0,>=2.4.0->langchain_community) (1.0.1)\n",
      "Requirement already satisfied: charset-normalizer<4,>=2 in /Users/iborja/.pyenv/versions/3.12.6/lib/python3.12/site-packages (from requests<3,>=2->langchain) (3.4.0)\n",
      "Requirement already satisfied: markdown-it-py>=2.2.0 in /Users/iborja/.pyenv/versions/3.12.6/lib/python3.12/site-packages (from rich>=10.11.0->chromadb) (3.0.0)\n",
      "Requirement already satisfied: greenlet!=0.4.17 in /Users/iborja/.pyenv/versions/3.12.6/lib/python3.12/site-packages (from SQLAlchemy<3,>=1.4->langchain) (3.1.1)\n",
      "Requirement already satisfied: regex>=2022.1.18 in /Users/iborja/.pyenv/versions/3.12.6/lib/python3.12/site-packages (from tiktoken<1,>=0.7->langchain_openai) (2024.11.6)\n",
      "Requirement already satisfied: click>=8.0.0 in /Users/iborja/.pyenv/versions/3.12.6/lib/python3.12/site-packages (from typer<1.0,>=0.12->gradio) (8.1.7)\n",
      "Requirement already satisfied: shellingham>=1.3.0 in /Users/iborja/.pyenv/versions/3.12.6/lib/python3.12/site-packages (from typer<1.0,>=0.12->gradio) (1.5.4)\n",
      "Requirement already satisfied: httptools>=0.6.3 in /Users/iborja/.pyenv/versions/3.12.6/lib/python3.12/site-packages (from uvicorn[standard]>=0.18.3->chromadb) (0.6.4)\n",
      "Requirement already satisfied: uvloop!=0.15.0,!=0.15.1,>=0.14.0 in /Users/iborja/.pyenv/versions/3.12.6/lib/python3.12/site-packages (from uvicorn[standard]>=0.18.3->chromadb) (0.21.0)\n",
      "Requirement already satisfied: watchfiles>=0.13 in /Users/iborja/.pyenv/versions/3.12.6/lib/python3.12/site-packages (from uvicorn[standard]>=0.18.3->chromadb) (1.0.4)\n",
      "Requirement already satisfied: cachetools<6.0,>=2.0.0 in /Users/iborja/.pyenv/versions/3.12.6/lib/python3.12/site-packages (from google-auth>=1.0.1->kubernetes>=28.1.0->chromadb) (5.5.0)\n",
      "Requirement already satisfied: pyasn1-modules>=0.2.1 in /Users/iborja/.pyenv/versions/3.12.6/lib/python3.12/site-packages (from google-auth>=1.0.1->kubernetes>=28.1.0->chromadb) (0.4.1)\n",
      "Requirement already satisfied: rsa<5,>=3.1.4 in /Users/iborja/.pyenv/versions/3.12.6/lib/python3.12/site-packages (from google-auth>=1.0.1->kubernetes>=28.1.0->chromadb) (4.9)\n",
      "Requirement already satisfied: zipp>=3.20 in /Users/iborja/.pyenv/versions/3.12.6/lib/python3.12/site-packages (from importlib-metadata<=8.5.0,>=6.0->opentelemetry-api>=1.2.0->chromadb) (3.21.0)\n",
      "Requirement already satisfied: parso<0.9.0,>=0.8.4 in /Users/iborja/.pyenv/versions/3.12.6/lib/python3.12/site-packages (from jedi>=0.16->ipython>=6.1.0->ipywidgets) (0.8.4)\n",
      "Requirement already satisfied: jsonpointer>=1.9 in /Users/iborja/.pyenv/versions/3.12.6/lib/python3.12/site-packages (from jsonpatch<2.0,>=1.33->langchain-core<0.4.0,>=0.3.31->langchain) (3.0.0)\n",
      "Requirement already satisfied: mdurl~=0.1 in /Users/iborja/.pyenv/versions/3.12.6/lib/python3.12/site-packages (from markdown-it-py>=2.2.0->rich>=10.11.0->chromadb) (0.1.2)\n",
      "Requirement already satisfied: ptyprocess>=0.5 in /Users/iborja/.pyenv/versions/3.12.6/lib/python3.12/site-packages (from pexpect>4.3->ipython>=6.1.0->ipywidgets) (0.7.0)\n",
      "Requirement already satisfied: wcwidth in /Users/iborja/.pyenv/versions/3.12.6/lib/python3.12/site-packages (from prompt_toolkit<3.1.0,>=3.0.41->ipython>=6.1.0->ipywidgets) (0.2.13)\n",
      "Requirement already satisfied: mypy-extensions>=0.3.0 in /Users/iborja/.pyenv/versions/3.12.6/lib/python3.12/site-packages (from typing-inspect<1,>=0.4.0->dataclasses-json<0.7,>=0.5.7->langchain_community) (1.0.0)\n",
      "Requirement already satisfied: humanfriendly>=9.1 in /Users/iborja/.pyenv/versions/3.12.6/lib/python3.12/site-packages (from coloredlogs->onnxruntime>=1.14.1->chromadb) (10.0)\n",
      "Requirement already satisfied: executing>=1.2.0 in /Users/iborja/.pyenv/versions/3.12.6/lib/python3.12/site-packages (from stack_data->ipython>=6.1.0->ipywidgets) (2.1.0)\n",
      "Requirement already satisfied: asttokens>=2.1.0 in /Users/iborja/.pyenv/versions/3.12.6/lib/python3.12/site-packages (from stack_data->ipython>=6.1.0->ipywidgets) (3.0.0)\n",
      "Requirement already satisfied: pure-eval in /Users/iborja/.pyenv/versions/3.12.6/lib/python3.12/site-packages (from stack_data->ipython>=6.1.0->ipywidgets) (0.2.3)\n",
      "Requirement already satisfied: mpmath<1.4,>=1.1.0 in /Users/iborja/.pyenv/versions/3.12.6/lib/python3.12/site-packages (from sympy->onnxruntime>=1.14.1->chromadb) (1.3.0)\n",
      "Requirement already satisfied: pyasn1<0.7.0,>=0.4.6 in /Users/iborja/.pyenv/versions/3.12.6/lib/python3.12/site-packages (from pyasn1-modules>=0.2.1->google-auth>=1.0.1->kubernetes>=28.1.0->chromadb) (0.6.1)\n"
     ]
    }
   ],
   "source": [
    "#instalacion\n",
    "!pip install --upgrade langchain langchain_openai gradio chromadb pypdf ipywidgets langchain_community"
   ]
  },
  {
   "cell_type": "code",
   "execution_count": 4,
   "metadata": {},
   "outputs": [],
   "source": [
    "from langchain_community.document_loaders import PyPDFLoader\n",
    "from langchain.vectorstores import Chroma\n",
    "from langchain.prompts import PromptTemplate \n",
    "from langchain_openai import ChatOpenAI, OpenAIEmbeddings\n",
    "from langchain_core.output_parsers import StrOutputParser\n",
    "from langchain_core.runnables import RunnablePassthrough\n",
    "import gradio as gr"
   ]
  },
  {
   "cell_type": "markdown",
   "metadata": {},
   "source": [
    "### Fuentes RAG"
   ]
  },
  {
   "cell_type": "code",
   "execution_count": 25,
   "metadata": {},
   "outputs": [],
   "source": [
    "url = 'https://www.madrid.es/UnidadesDescentralizadas/Educacion_Ambiental/ContenidosBasicos/Publicaciones/Residuos_Limpieza/GuiaReducirResiduos/GuíaBuenasPrácticasReducirResiduos.pdf'\n",
    "url2 = 'DATA/CS-RecogidaResiduos_Folleto2024.pdf'\n",
    "url3 = 'https://www.madrid.es/UnidadesDescentralizadas/UDCEstadistica/Nuevaweb/Publicaciones/anuesta/nuevos/Anuario%20Estadístico%20Municipal/Anuario%20estadístico%202023/Capítulos/CAPITULO%206.pdf'\n",
    "url4 = 'https://www.icv.csic.es/prevencion/Documentos/residuos/puntos.pdf'\n",
    "url5 =  'https://www.redcimas.org/wordpress/wp-content/uploads/2013/02/gestionresiduos_comparativa.pdf'\n",
    "url6 = 'https://conerrede.es/wp-content/uploads/2022/08/dossier-informativo_ayto-madrid.pdf'\n"
   ]
  },
  {
   "cell_type": "markdown",
   "metadata": {},
   "source": [
    "### Configuracion"
   ]
  },
  {
   "cell_type": "markdown",
   "metadata": {},
   "source": []
  },
  {
   "cell_type": "code",
   "execution_count": 26,
   "metadata": {},
   "outputs": [],
   "source": [
    "API_KEY = \n",
    "llm = ChatOpenAI(model='gpt-3.5-turbo-0125' , temperature= 0 , api_key=API_KEY)\n",
    "emmbeding = OpenAIEmbeddings(api_key= API_KEY)"
   ]
  },
  {
   "cell_type": "markdown",
   "metadata": {},
   "source": [
    "### Corpus"
   ]
  },
  {
   "cell_type": "code",
   "execution_count": 27,
   "metadata": {},
   "outputs": [],
   "source": [
    "urls = [url, url2, url3, url4,url5,url6] #un libro de libros"
   ]
  },
  {
   "cell_type": "code",
   "execution_count": 29,
   "metadata": {},
   "outputs": [],
   "source": [
    "\n",
    "pages = []\n",
    "for url in urls:\n",
    "    pdf = PyPDFLoader(url)\n",
    "    pages += pdf.load_and_split()"
   ]
  },
  {
   "cell_type": "code",
   "execution_count": 30,
   "metadata": {},
   "outputs": [
    {
     "data": {
      "text/plain": [
       "224"
      ]
     },
     "execution_count": 30,
     "metadata": {},
     "output_type": "execute_result"
    }
   ],
   "source": [
    "len(pages)"
   ]
  },
  {
   "cell_type": "code",
   "execution_count": 31,
   "metadata": {},
   "outputs": [
    {
     "ename": "IndexError",
     "evalue": "list index out of range",
     "output_type": "error",
     "traceback": [
      "\u001b[0;31m---------------------------------------------------------------------------\u001b[0m",
      "\u001b[0;31mIndexError\u001b[0m                                Traceback (most recent call last)",
      "Cell \u001b[0;32mIn[31], line 1\u001b[0m\n\u001b[0;32m----> 1\u001b[0m \u001b[43mpages\u001b[49m\u001b[43m[\u001b[49m\u001b[38;5;241;43m290\u001b[39;49m\u001b[43m]\u001b[49m\n",
      "\u001b[0;31mIndexError\u001b[0m: list index out of range"
     ]
    }
   ],
   "source": [
    "pages[290]"
   ]
  },
  {
   "cell_type": "markdown",
   "metadata": {},
   "source": [
    "# Vectorstore "
   ]
  },
  {
   "cell_type": "code",
   "execution_count": 32,
   "metadata": {},
   "outputs": [],
   "source": [
    "\n",
    "vectorstore = Chroma.from_documents(\n",
    "    documents=pages,\n",
    "    embedding=emmbeding,\n",
    ")"
   ]
  },
  {
   "cell_type": "code",
   "execution_count": 33,
   "metadata": {},
   "outputs": [],
   "source": [
    "\n",
    "retriever = vectorstore.as_retriever()"
   ]
  },
  {
   "cell_type": "markdown",
   "metadata": {},
   "source": [
    "# Prompt Template"
   ]
  },
  {
   "cell_type": "code",
   "execution_count": 35,
   "metadata": {},
   "outputs": [],
   "source": [
    " template = \"\"\"\n",
    "          ###INSTRUCCIONES:\n",
    "          Eres un asistente virtual en tareas de concienciacion del reciclaje y las buenas practicas medioambientales y tu objetivo es recopilar y dar respuesta segun la informacion que tienes a las preguntas que te planteen los usuarios.Seimpre con un tono amigable y pedagogico.\n",
    "\n",
    "          En tu respuesta, SIEMPRE:\n",
    "          (0)Se un lector atento a los detalles: Lee la pregunta y el contexto, entiende ambos antes de responder\n",
    "          (1)Tu respuesta comienza con un tono amigable, asegúrate de que entiendes la pregunta del usuario correctamente, en caso negativo, pregunta al usuario para obtener más información.\n",
    "          (2)Si el contexto te permite responder a la pregunta, escribe una respuesta detallada, útil y fácil de entender, CON FUENTES REFERENCIADAS EN EL TEXTO. SI NO: no puedes encontrar la respuesta, responde con una explicación, comenzando con: \"No pude encontrar la información en los documentos a los que tengo acceso\".\n",
    "          (3)Debajo de tu respuesta, proporciona un enlace a la fuente referenciada( Es decir, párrafos legales, artículos, etc.) y una breve explicación de por qué la fuente es relevante.\n",
    "          (4)Ahora que ya tienes tu respuesta, revísala para asegurarte de que sea clara, precisa y educada y cumple con los puntos anteriores.\n",
    "\n",
    "          ###PIENSA PASO POR PASO\n",
    "\n",
    "            Responde a la siguiente pregunta utilizando el contexto proporcionado.\n",
    "              ### Question: {question} ###\n",
    "              ### Context: {context} ###\n",
    "              ### Respuesta 'util con Fuentes:        \n",
    "\"\"\"\n",
    "\n",
    "prompt = PromptTemplate.from_template(template)"
   ]
  },
  {
   "cell_type": "markdown",
   "metadata": {},
   "source": [
    "## Chain"
   ]
  },
  {
   "cell_type": "code",
   "execution_count": 36,
   "metadata": {},
   "outputs": [],
   "source": [
    "chain = (\n",
    "    {'context':retriever,\n",
    "     'question':RunnablePassthrough()}\n",
    "     | prompt\n",
    "     | llm\n",
    "     | StrOutputParser()\n",
    ")\n",
    " "
   ]
  },
  {
   "cell_type": "code",
   "execution_count": 37,
   "metadata": {},
   "outputs": [],
   "source": [
    "def get_asnwer(question):\n",
    "    return chain.invoke(question)"
   ]
  },
  {
   "cell_type": "code",
   "execution_count": 38,
   "metadata": {},
   "outputs": [
    {
     "data": {
      "text/plain": [
       "'¡Hola! Para desechar residuos orgánicos, como restos de alimentos, posos de café, hojas y ramas de plantas, entre otros, debes depositarlos en el contenedor gris con tapa naranja. Este contenedor está destinado para los restos orgánicos y otros residuos domésticos que no se incluyen en contenedores específicos.\\n\\nLa materia orgánica depositada en este contenedor se recoge para su posterior tratamiento, ya sea en centros de compostaje a nivel doméstico o en centros de tratamiento especializados, como el Parque Tecnológico de Valdemingómez, donde se transforma en compost de alta calidad, un abono orgánico beneficioso para el suelo.\\n\\nRecuerda que es importante separar adecuadamente los residuos para facilitar su reciclaje y tratamiento adecuado. ¡Cuidar el medio ambiente es responsabilidad de todos!\\n\\nFuente: Guía de Buenas Prácticas para la Reducción de Residuos del Ayuntamiento de Madrid.\\n\\nEnlace: https://www.madrid.es/UnidadesDescentralizadas/Educacion_Ambiental/ContenidosBasicos/Publicaciones/Residuos_Limpieza/GuiaReducirResiduos/GuíaBuenasPrácticasReducirResiduos.pdf\\n\\nEsta fuente es relevante porque proporciona información detallada sobre la gestión de residuos orgánicos y la importancia de separarlos adecuadamente para su posterior tratamiento y reciclaje.'"
      ]
     },
     "execution_count": 38,
     "metadata": {},
     "output_type": "execute_result"
    }
   ],
   "source": [
    "get_asnwer('donde puedo tirar resoduos organicos')"
   ]
  },
  {
   "cell_type": "code",
   "execution_count": 39,
   "metadata": {},
   "outputs": [
    {
     "name": "stderr",
     "output_type": "stream",
     "text": [
      "/Users/iborja/.pyenv/versions/3.12.6/lib/python3.12/site-packages/gradio/interface.py:403: UserWarning: The `allow_flagging` parameter in `Interface` is deprecated.Use `flagging_mode` instead.\n",
      "  warnings.warn(\n"
     ]
    },
    {
     "name": "stdout",
     "output_type": "stream",
     "text": [
      "* Running on local URL:  http://127.0.0.1:7865\n",
      "\n",
      "To create a public link, set `share=True` in `launch()`.\n"
     ]
    },
    {
     "data": {
      "text/html": [
       "<div><iframe src=\"http://127.0.0.1:7865/\" width=\"100%\" height=\"500\" allow=\"autoplay; camera; microphone; clipboard-read; clipboard-write;\" frameborder=\"0\" allowfullscreen></iframe></div>"
      ],
      "text/plain": [
       "<IPython.core.display.HTML object>"
      ]
     },
     "metadata": {},
     "output_type": "display_data"
    },
    {
     "data": {
      "text/plain": []
     },
     "execution_count": 39,
     "metadata": {},
     "output_type": "execute_result"
    }
   ],
   "source": [
    "iface = gr.Interface(fn=get_asnwer, inputs=gr.Textbox(\n",
    "    value=\"Pregúntame lo que necesites\"),\n",
    "    live=False, \n",
    "    outputs=\"markdown\",  \n",
    "    title=\"Inteligencia sobre documentación mediante LLM\",\n",
    "    description=\"Puedes preguntar cualquier pregunta sobre migración\",\n",
    "    theme=gr.themes.Soft(),\n",
    "    allow_flagging=\"never\",)\n",
    "\n",
    "iface.launch()"
   ]
  }
 ],
 "metadata": {
  "kernelspec": {
   "display_name": "3.12.6",
   "language": "python",
   "name": "python3"
  },
  "language_info": {
   "codemirror_mode": {
    "name": "ipython",
    "version": 3
   },
   "file_extension": ".py",
   "mimetype": "text/x-python",
   "name": "python",
   "nbconvert_exporter": "python",
   "pygments_lexer": "ipython3",
   "version": "3.12.6"
  }
 },
 "nbformat": 4,
 "nbformat_minor": 2
}
