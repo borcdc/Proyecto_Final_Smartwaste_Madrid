{
 "cells": [
  {
   "cell_type": "code",
   "execution_count": 68,
   "metadata": {},
   "outputs": [
    {
     "name": "stdout",
     "output_type": "stream",
     "text": [
      "Index(['mes', 'lote', 'cod_distrito', 'distrito', 'muebles_010',\n",
      "       'muebles_recog._programada', 'muebles_recog._en_calle',\n",
      "       'total_kg_recogida_de_muebles', 'residuos_varios_viapublica_resto',\n",
      "       'orgánica_hojas_y_ramas', 'envases', 'papel_y_cartón',\n",
      "       'varios_residuos_de_construcción_y_demolición',\n",
      "       'kg_recogida_residuos_viarios', 'nº_servicios_barrido_manual',\n",
      "       'nº_servicios_barrido_mantenimiento', 'nº_servicios_barrido_mecánico',\n",
      "       'nº_servicios_barrido_mixto', 'nº_servicios_baldeo_mecánico',\n",
      "       'nº_servicios_baldeo_mixto', 'nº_servicios_hidrolimpiador_manchas',\n",
      "       'nº_servicios_eliminación_grafitis', 'm2_eliminación_grafitis',\n",
      "       'ud_reposición_bolsas_caninas', 'año', 'mes_año'],\n",
      "      dtype='object')\n"
     ]
    }
   ],
   "source": [
    "import pandas as pd\n",
    "\n",
    "# Load the CSV file\n",
    "file_path = '/Users/iborja/Desktop/Proyecto_Smartwaste_Madrid/Proyecto_Final_Smartwaste_Madrid/DATA/Actuaciones_limpieza_urbana.csv'\n",
    "df = pd.read_csv(file_path)\n",
    "\n",
    "# Print the columns of the dataframe\n",
    "print(df.columns)"
   ]
  },
  {
   "cell_type": "code",
   "execution_count": 69,
   "metadata": {},
   "outputs": [
    {
     "name": "stdout",
     "output_type": "stream",
     "text": [
      "     mes   año    distrito  residuos_varios_viapublica_resto  \\\n",
      "0  ENERO  2022     CENTRO                               0.00   \n",
      "1  ENERO  2022      TETUÁN                              0.00   \n",
      "2  ENERO  2022    CHAMBERÍ                              0.00   \n",
      "3  ENERO  2022  ARGANZUELA                            294.60   \n",
      "4  ENERO  2022      RETIRO                            342.83   \n",
      "\n",
      "   orgánica_hojas_y_ramas  envases  papel_y_cartón  \n",
      "0                   262.0     2.62            8.26  \n",
      "1                     0.0   240.00            4.28  \n",
      "2                   120.0   420.00            3.40  \n",
      "3                     0.0     0.00            0.00  \n",
      "4                     0.0     0.00            0.00  \n"
     ]
    }
   ],
   "source": [
    "columns_to_keep = ['mes', 'año', 'distrito', 'residuos_varios_viapublica_resto', 'orgánica_hojas_y_ramas', 'envases', 'papel_y_cartón']\n",
    "df = df[columns_to_keep]\n",
    "print(df.head())"
   ]
  },
  {
   "cell_type": "code",
   "execution_count": 70,
   "metadata": {
    "vscode": {
     "languageId": "ruby"
    }
   },
   "outputs": [
    {
     "name": "stdout",
     "output_type": "stream",
     "text": [
      "     mes   año    distrito  suma_residuos\n",
      "0  ENERO  2022     CENTRO          272.88\n",
      "1  ENERO  2022      TETUÁN         244.28\n",
      "2  ENERO  2022    CHAMBERÍ         543.40\n",
      "3  ENERO  2022  ARGANZUELA         294.60\n",
      "4  ENERO  2022      RETIRO         342.83\n"
     ]
    }
   ],
   "source": [
    "# Sumar las columnas especificadas\n",
    "df['suma_residuos'] = df[['residuos_varios_viapublica_resto', 'orgánica_hojas_y_ramas', 'envases', 'papel_y_cartón']].sum(axis=1)\n",
    "\n",
    "# Eliminar las columnas originales\n",
    "df.drop(columns=['residuos_varios_viapublica_resto', 'orgánica_hojas_y_ramas', 'envases', 'papel_y_cartón'], inplace=True)\n",
    "\n",
    "# Mostrar el dataframe resultante\n",
    "print(df.head())"
   ]
  },
  {
   "cell_type": "code",
   "execution_count": 71,
   "metadata": {},
   "outputs": [
    {
     "name": "stdout",
     "output_type": "stream",
     "text": [
      "Archivo CSV guardado en: /Users/iborja/Desktop/Proyecto_Smartwaste_Madrid/Proyecto_Final_Smartwaste_Madrid/DATA/output/Actuaciones_limpieza_urbana_procesado.csv\n"
     ]
    }
   ],
   "source": [
    "import os\n",
    "\n",
    "# Guardar el dataframe en un archivo CSV\n",
    "output_directory = '/Users/iborja/Desktop/Proyecto_Smartwaste_Madrid/Proyecto_Final_Smartwaste_Madrid/DATA/output'\n",
    "os.makedirs(output_directory, exist_ok=True)\n",
    "output_file_path = os.path.join(output_directory, 'Actuaciones_limpieza_urbana_procesado.csv')\n",
    "df.to_csv(output_file_path, index=False)\n",
    "\n",
    "print(f\"Archivo CSV guardado en: {output_file_path}\")"
   ]
  },
  {
   "cell_type": "code",
   "execution_count": 72,
   "metadata": {},
   "outputs": [
    {
     "name": "stdout",
     "output_type": "stream",
     "text": [
      "     distrito  poblacion  superficie_ha    densidad  \\\n",
      "0  ARGANZUELA     153304         646.22  237.231902   \n",
      "1      RETIRO     117918         546.62  215.722074   \n",
      "2   SALAMANCA     145702         539.24  270.198798   \n",
      "3   CHAMARTÍN     144796         917.55  157.807204   \n",
      "4      TETUÁN     160002         537.47  297.694755   \n",
      "\n",
      "   total_kg_recogida_de_muebles  residuos_varios_viapublica_resto   envases  \\\n",
      "0                      1798.027                          7797.760   3777.08   \n",
      "1                      1557.562                          6858.844  13724.20   \n",
      "2                      1097.120                         10472.880   7914.06   \n",
      "3                      1429.093                          5822.722   5432.44   \n",
      "4                      3082.640                         10550.536   8121.38   \n",
      "\n",
      "   papel_y_cartón  orgánica_hojas_y_ramas  \\\n",
      "0        1058.242                 512.680   \n",
      "1         354.602                 169.409   \n",
      "2          73.630                 357.770   \n",
      "3        1310.353                 600.310   \n",
      "4         148.837                 321.880   \n",
      "\n",
      "   varios_residuos_de_construcción_y_demolición  suma_residuos  \n",
      "0                                      2302.170      17245.959  \n",
      "1                                      1102.330      23766.947  \n",
      "2                                      3716.479      23631.939  \n",
      "3                                      5388.040      19982.958  \n",
      "4                                      2442.880      24668.153  \n"
     ]
    }
   ],
   "source": [
    "# Load the CSV file\n",
    "file_path_densidad = '/Users/iborja/Desktop/Proyecto_Smartwaste_Madrid/Proyecto_Final_Smartwaste_Madrid/df_final_densidad_actuacioneslimp.csv'\n",
    "df_densidad = pd.read_csv(file_path_densidad)\n",
    "\n",
    "# Sumar las columnas especificadas\n",
    "df_densidad['suma_residuos'] = df_densidad[['total_kg_recogida_de_muebles', 'residuos_varios_viapublica_resto', 'envases', 'papel_y_cartón', 'orgánica_hojas_y_ramas', 'varios_residuos_de_construcción_y_demolición']].sum(axis=1)\n",
    "\n",
    "# Mostrar el dataframe resultante\n",
    "print(df_densidad.head())"
   ]
  },
  {
   "cell_type": "code",
   "execution_count": 73,
   "metadata": {},
   "outputs": [
    {
     "name": "stdout",
     "output_type": "stream",
     "text": [
      "             distrito  poblacion  superficie_ha    densidad  suma_residuos\n",
      "0          ARGANZUELA     153304         646.22  237.231902      17245.959\n",
      "1              RETIRO     117918         546.62  215.722074      23766.947\n",
      "2           SALAMANCA     145702         539.24  270.198798      23631.939\n",
      "3           CHAMARTÍN     144796         917.55  157.807204      19982.958\n",
      "4              TETUÁN     160002         537.47  297.694755      24668.153\n",
      "5            CHAMBERÍ     138204         467.92  295.358181      24660.640\n",
      "6              LATINA     241672        2542.72   95.044677      25938.591\n",
      "7         CARABANCHEL     262339        1404.83  186.740744      23294.169\n",
      "8               USERA     142746         777.77  183.532407      64786.090\n",
      "9  PUENTE DE VALLECAS     241603        1496.86  161.406544       2350.226\n"
     ]
    }
   ],
   "source": [
    "columns_to_drop = ['total_kg_recogida_de_muebles', 'residuos_varios_viapublica_resto', 'envases', 'papel_y_cartón', 'orgánica_hojas_y_ramas', 'varios_residuos_de_construcción_y_demolición']\n",
    "df_densidad.drop(columns=columns_to_drop, inplace=True)\n",
    "\n",
    "# Mostrar el dataframe resultante\n",
    "print(df_densidad.head(10))"
   ]
  },
  {
   "cell_type": "code",
   "execution_count": 74,
   "metadata": {},
   "outputs": [
    {
     "name": "stdout",
     "output_type": "stream",
     "text": [
      "Archivo CSV guardado en: /Users/iborja/Desktop/Proyecto_Smartwaste_Madrid/Proyecto_Final_Smartwaste_Madrid/DATA/output/azure_densidad.csv\n"
     ]
    }
   ],
   "source": [
    "# Guardar el dataframe df_densidad en un archivo CSV\n",
    "output_file_path_densidad = os.path.join(output_directory, 'azure_densidad.csv')\n",
    "df_densidad.to_csv(output_file_path_densidad, index=False)\n",
    "\n",
    "print(f\"Archivo CSV guardado en: {output_file_path_densidad}\")"
   ]
  }
 ],
 "metadata": {
  "kernelspec": {
   "display_name": "3.12.6",
   "language": "python",
   "name": "python3"
  },
  "language_info": {
   "codemirror_mode": {
    "name": "ipython",
    "version": 3
   },
   "file_extension": ".py",
   "mimetype": "text/x-python",
   "name": "python",
   "nbconvert_exporter": "python",
   "pygments_lexer": "ipython3",
   "version": "3.12.6"
  }
 },
 "nbformat": 4,
 "nbformat_minor": 2
}
